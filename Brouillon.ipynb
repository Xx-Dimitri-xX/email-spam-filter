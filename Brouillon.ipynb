{
 "cells": [
  {
   "cell_type": "code",
   "execution_count": 1,
   "id": "22301951",
   "metadata": {},
   "outputs": [],
   "source": [
    "#Import des bibliothèques nécessaires\n",
    "import pandas as pd\n",
    "import numpy as np\n",
    "import matplotlib.pyplot as plt\n",
    "import seaborn as sns\n",
    "\n",
    "#Configuration de l'affichage des graphiques\n",
    "%matplotlib inline"
   ]
  },
  {
   "cell_type": "code",
   "execution_count": 2,
   "id": "f87bc5c1",
   "metadata": {},
   "outputs": [],
   "source": [
    "#Chargement du dataset\n",
    "file_path = 'spam_ham_dataset.csv'\n",
    "spam_df = pd.read_csv(file_path)"
   ]
  },
  {
   "cell_type": "code",
   "execution_count": 3,
   "id": "be47d85f",
   "metadata": {},
   "outputs": [
    {
     "name": "stdout",
     "output_type": "stream",
     "text": [
      "Aperçu des premières lignes du dataset :\n"
     ]
    },
    {
     "data": {
      "text/html": [
       "<div>\n",
       "<style scoped>\n",
       "    .dataframe tbody tr th:only-of-type {\n",
       "        vertical-align: middle;\n",
       "    }\n",
       "\n",
       "    .dataframe tbody tr th {\n",
       "        vertical-align: top;\n",
       "    }\n",
       "\n",
       "    .dataframe thead th {\n",
       "        text-align: right;\n",
       "    }\n",
       "</style>\n",
       "<table border=\"1\" class=\"dataframe\">\n",
       "  <thead>\n",
       "    <tr style=\"text-align: right;\">\n",
       "      <th></th>\n",
       "      <th>Unnamed: 0</th>\n",
       "      <th>label</th>\n",
       "      <th>text</th>\n",
       "      <th>label_num</th>\n",
       "    </tr>\n",
       "  </thead>\n",
       "  <tbody>\n",
       "    <tr>\n",
       "      <th>0</th>\n",
       "      <td>605</td>\n",
       "      <td>ham</td>\n",
       "      <td>Subject: enron methanol ; meter # : 988291\\r\\nthis is a follow up to the note i gave you on monday , 4 / 3 / 00 { preliminary\\r\\nflow data provided by daren } .\\r\\nplease override pop ' s daily volume { presently zero } to reflect daily\\r\\nactivity you can obtain from gas control .\\r\\nthis change is needed asap for economics purposes .</td>\n",
       "      <td>0</td>\n",
       "    </tr>\n",
       "    <tr>\n",
       "      <th>1</th>\n",
       "      <td>2349</td>\n",
       "      <td>ham</td>\n",
       "      <td>Subject: hpl nom for january 9 , 2001\\r\\n( see attached file : hplnol 09 . xls )\\r\\n- hplnol 09 . xls</td>\n",
       "      <td>0</td>\n",
       "    </tr>\n",
       "    <tr>\n",
       "      <th>2</th>\n",
       "      <td>3624</td>\n",
       "      <td>ham</td>\n",
       "      <td>Subject: neon retreat\\r\\nho ho ho , we ' re around to that most wonderful time of the year - - - neon leaders retreat time !\\r\\ni know that this time of year is extremely hectic , and that it ' s tough to think about anything past the holidays , but life does go on past the week of december 25 through january 1 , and that ' s what i ' d like you to think about for a minute .\\r\\non the calender that i handed out at the beginning of the fall semester , the retreat was scheduled for the weekend of january 5 - 6 . but because of a youth ministers conference that brad and dustin are connected with that week , we ' re going to change the date to the following weekend , january 12 - 13 . now comes the part you need to think about .\\r\\ni think we all agree that it ' s important for us to get together and have some time to recharge our batteries before we get to far into the spring semester , but it can be a lot of trouble and difficult for us to get away without kids , etc . so , brad came up with a potential alternative for how we can get together on that weekend , and then you can let me know which you prefer .\\r\\nthe first option would be to have a retreat similar to what we ' ve done the past several years . this year we could go to the heartland country inn ( www . . com ) outside of brenham . it ' s a nice place , where we ' d have a 13 - bedroom and a 5 - bedroom house side by side . it ' s in the country , real relaxing , but also close to brenham and only about one hour and 15 minutes from here . we can golf , shop in the antique and craft stores in brenham , eat dinner together at the ranch , and spend time with each other . we ' d meet on saturday , and then return on sunday morning , just like what we ' ve done in the past .\\r\\nthe second option would be to stay here in houston , have dinner together at a nice restaurant , and then have dessert and a time for visiting and recharging at one of our homes on that saturday evening . this might be easier , but the trade off would be that we wouldn ' t have as much time together . i ' ll let you decide .\\r\\nemail me back with what would be your preference , and of course if you ' re available on that weekend . the democratic process will prevail - - majority vote will rule ! let me hear from you as soon as possible , preferably by the end of the weekend . and if the vote doesn ' t go your way , no complaining allowed ( like i tend to do ! )\\r\\nhave a great weekend , great golf , great fishing , great shopping , or whatever makes you happy !\\r\\nbobby</td>\n",
       "      <td>0</td>\n",
       "    </tr>\n",
       "    <tr>\n",
       "      <th>3</th>\n",
       "      <td>4685</td>\n",
       "      <td>spam</td>\n",
       "      <td>Subject: photoshop , windows , office . cheap . main trending\\r\\nabasements darer prudently fortuitous undergone\\r\\nlighthearted charm orinoco taster\\r\\nrailroad affluent pornographic cuvier\\r\\nirvin parkhouse blameworthy chlorophyll\\r\\nrobed diagrammatic fogarty clears bayda\\r\\ninconveniencing managing represented smartness hashish\\r\\nacademies shareholders unload badness\\r\\ndanielson pure caffein\\r\\nspaniard chargeable levin\\r\\n</td>\n",
       "      <td>1</td>\n",
       "    </tr>\n",
       "    <tr>\n",
       "      <th>4</th>\n",
       "      <td>2030</td>\n",
       "      <td>ham</td>\n",
       "      <td>Subject: re : indian springs\\r\\nthis deal is to book the teco pvr revenue . it is my understanding that teco\\r\\njust sends us a check , i haven ' t received an answer as to whether there is a\\r\\npredermined price associated with this deal or if teco just lets us know what\\r\\nwe are giving . i can continue to chase this deal down if you need .</td>\n",
       "      <td>0</td>\n",
       "    </tr>\n",
       "  </tbody>\n",
       "</table>\n",
       "</div>"
      ],
      "text/plain": [
       "   Unnamed: 0 label  \\\n",
       "0         605   ham   \n",
       "1        2349   ham   \n",
       "2        3624   ham   \n",
       "3        4685  spam   \n",
       "4        2030   ham   \n",
       "\n",
       "                                                                                                                                                                                                                                                                                                                                                                                                                                                                                                                                                                                                                                                                                                                                                                                                                                                                                                                                                                                                                                                                                                                                                                                                                                                                                                                                                                                                                                                                                                                                                                                                                                                                                                                                                                                                                                                                                                                                                                                                                                                                                                                                                                                                                                                                                                                                                                                                                                                                                                                                                                                                                                             text  \\\n",
       "0                                                                                                                                                                                                                                                                                                                                                                                                                                                                                                                                                                                                                                                                                                                                                                                                                                                                                                                                                                                                                                                                                                                                                                                                                                                                                                                                                                                                                                                                                                                                                                                                                                                                                                                                                                                                                                                                                                                                                                                                                                                                                                                                                                                                                                                                                               Subject: enron methanol ; meter # : 988291\\r\\nthis is a follow up to the note i gave you on monday , 4 / 3 / 00 { preliminary\\r\\nflow data provided by daren } .\\r\\nplease override pop ' s daily volume { presently zero } to reflect daily\\r\\nactivity you can obtain from gas control .\\r\\nthis change is needed asap for economics purposes .   \n",
       "1                                                                                                                                                                                                                                                                                                                                                                                                                                                                                                                                                                                                                                                                                                                                                                                                                                                                                                                                                                                                                                                                                                                                                                                                                                                                                                                                                                                                                                                                                                                                                                                                                                                                                                                                                                                                                                                                                                                                                                                                                                                                                                                                                                                                                                                                                                                                                                                                                                                                                                                                           Subject: hpl nom for january 9 , 2001\\r\\n( see attached file : hplnol 09 . xls )\\r\\n- hplnol 09 . xls   \n",
       "2  Subject: neon retreat\\r\\nho ho ho , we ' re around to that most wonderful time of the year - - - neon leaders retreat time !\\r\\ni know that this time of year is extremely hectic , and that it ' s tough to think about anything past the holidays , but life does go on past the week of december 25 through january 1 , and that ' s what i ' d like you to think about for a minute .\\r\\non the calender that i handed out at the beginning of the fall semester , the retreat was scheduled for the weekend of january 5 - 6 . but because of a youth ministers conference that brad and dustin are connected with that week , we ' re going to change the date to the following weekend , january 12 - 13 . now comes the part you need to think about .\\r\\ni think we all agree that it ' s important for us to get together and have some time to recharge our batteries before we get to far into the spring semester , but it can be a lot of trouble and difficult for us to get away without kids , etc . so , brad came up with a potential alternative for how we can get together on that weekend , and then you can let me know which you prefer .\\r\\nthe first option would be to have a retreat similar to what we ' ve done the past several years . this year we could go to the heartland country inn ( www . . com ) outside of brenham . it ' s a nice place , where we ' d have a 13 - bedroom and a 5 - bedroom house side by side . it ' s in the country , real relaxing , but also close to brenham and only about one hour and 15 minutes from here . we can golf , shop in the antique and craft stores in brenham , eat dinner together at the ranch , and spend time with each other . we ' d meet on saturday , and then return on sunday morning , just like what we ' ve done in the past .\\r\\nthe second option would be to stay here in houston , have dinner together at a nice restaurant , and then have dessert and a time for visiting and recharging at one of our homes on that saturday evening . this might be easier , but the trade off would be that we wouldn ' t have as much time together . i ' ll let you decide .\\r\\nemail me back with what would be your preference , and of course if you ' re available on that weekend . the democratic process will prevail - - majority vote will rule ! let me hear from you as soon as possible , preferably by the end of the weekend . and if the vote doesn ' t go your way , no complaining allowed ( like i tend to do ! )\\r\\nhave a great weekend , great golf , great fishing , great shopping , or whatever makes you happy !\\r\\nbobby   \n",
       "3                                                                                                                                                                                                                                                                                                                                                                                                                                                                                                                                                                                                                                                                                                                                                                                                                                                                                                                                                                                                                                                                                                                                                                                                                                                                                                                                                                                                                                                                                                                                                                                                                                                                                                                                                                                                                                                                                                                                                                                                                                                                                                                                                                                              Subject: photoshop , windows , office . cheap . main trending\\r\\nabasements darer prudently fortuitous undergone\\r\\nlighthearted charm orinoco taster\\r\\nrailroad affluent pornographic cuvier\\r\\nirvin parkhouse blameworthy chlorophyll\\r\\nrobed diagrammatic fogarty clears bayda\\r\\ninconveniencing managing represented smartness hashish\\r\\nacademies shareholders unload badness\\r\\ndanielson pure caffein\\r\\nspaniard chargeable levin\\r\\n   \n",
       "4                                                                                                                                                                                                                                                                                                                                                                                                                                                                                                                                                                                                                                                                                                                                                                                                                                                                                                                                                                                                                                                                                                                                                                                                                                                                                                                                                                                                                                                                                                                                                                                                                                                                                                                                                                                                                                                                                                                                                                                                                                                                                                                                                                                                                                                                                        Subject: re : indian springs\\r\\nthis deal is to book the teco pvr revenue . it is my understanding that teco\\r\\njust sends us a check , i haven ' t received an answer as to whether there is a\\r\\npredermined price associated with this deal or if teco just lets us know what\\r\\nwe are giving . i can continue to chase this deal down if you need .   \n",
       "\n",
       "   label_num  \n",
       "0          0  \n",
       "1          0  \n",
       "2          0  \n",
       "3          1  \n",
       "4          0  "
      ]
     },
     "metadata": {},
     "output_type": "display_data"
    }
   ],
   "source": [
    "#Premier aperçu des données\n",
    "print(\"Aperçu des premières lignes du dataset :\")\n",
    "pd.set_option('display.max_colwidth', None)\n",
    "display(spam_df.head())"
   ]
  },
  {
   "cell_type": "code",
   "execution_count": 4,
   "id": "6ccac96f",
   "metadata": {},
   "outputs": [
    {
     "name": "stdout",
     "output_type": "stream",
     "text": [
      "\n",
      "Informations sur le dataset :\n",
      "<class 'pandas.core.frame.DataFrame'>\n",
      "RangeIndex: 5171 entries, 0 to 5170\n",
      "Data columns (total 4 columns):\n",
      " #   Column      Non-Null Count  Dtype \n",
      "---  ------      --------------  ----- \n",
      " 0   Unnamed: 0  5171 non-null   int64 \n",
      " 1   label       5171 non-null   object\n",
      " 2   text        5171 non-null   object\n",
      " 3   label_num   5171 non-null   int64 \n",
      "dtypes: int64(2), object(2)\n",
      "memory usage: 161.7+ KB\n"
     ]
    }
   ],
   "source": [
    "#Informations générales sur le dataset\n",
    "print(\"\\nInformations sur le dataset :\")\n",
    "spam_df.info()"
   ]
  },
  {
   "cell_type": "code",
   "execution_count": 5,
   "id": "b7ee4162",
   "metadata": {},
   "outputs": [
    {
     "name": "stdout",
     "output_type": "stream",
     "text": [
      "\n",
      "Statistiques descriptives :\n"
     ]
    },
    {
     "data": {
      "text/html": [
       "<div>\n",
       "<style scoped>\n",
       "    .dataframe tbody tr th:only-of-type {\n",
       "        vertical-align: middle;\n",
       "    }\n",
       "\n",
       "    .dataframe tbody tr th {\n",
       "        vertical-align: top;\n",
       "    }\n",
       "\n",
       "    .dataframe thead th {\n",
       "        text-align: right;\n",
       "    }\n",
       "</style>\n",
       "<table border=\"1\" class=\"dataframe\">\n",
       "  <thead>\n",
       "    <tr style=\"text-align: right;\">\n",
       "      <th></th>\n",
       "      <th>Unnamed: 0</th>\n",
       "      <th>label_num</th>\n",
       "    </tr>\n",
       "  </thead>\n",
       "  <tbody>\n",
       "    <tr>\n",
       "      <th>count</th>\n",
       "      <td>5171.000000</td>\n",
       "      <td>5171.000000</td>\n",
       "    </tr>\n",
       "    <tr>\n",
       "      <th>mean</th>\n",
       "      <td>2585.000000</td>\n",
       "      <td>0.289886</td>\n",
       "    </tr>\n",
       "    <tr>\n",
       "      <th>std</th>\n",
       "      <td>1492.883452</td>\n",
       "      <td>0.453753</td>\n",
       "    </tr>\n",
       "    <tr>\n",
       "      <th>min</th>\n",
       "      <td>0.000000</td>\n",
       "      <td>0.000000</td>\n",
       "    </tr>\n",
       "    <tr>\n",
       "      <th>25%</th>\n",
       "      <td>1292.500000</td>\n",
       "      <td>0.000000</td>\n",
       "    </tr>\n",
       "    <tr>\n",
       "      <th>50%</th>\n",
       "      <td>2585.000000</td>\n",
       "      <td>0.000000</td>\n",
       "    </tr>\n",
       "    <tr>\n",
       "      <th>75%</th>\n",
       "      <td>3877.500000</td>\n",
       "      <td>1.000000</td>\n",
       "    </tr>\n",
       "    <tr>\n",
       "      <th>max</th>\n",
       "      <td>5170.000000</td>\n",
       "      <td>1.000000</td>\n",
       "    </tr>\n",
       "  </tbody>\n",
       "</table>\n",
       "</div>"
      ],
      "text/plain": [
       "        Unnamed: 0    label_num\n",
       "count  5171.000000  5171.000000\n",
       "mean   2585.000000     0.289886\n",
       "std    1492.883452     0.453753\n",
       "min       0.000000     0.000000\n",
       "25%    1292.500000     0.000000\n",
       "50%    2585.000000     0.000000\n",
       "75%    3877.500000     1.000000\n",
       "max    5170.000000     1.000000"
      ]
     },
     "metadata": {},
     "output_type": "display_data"
    }
   ],
   "source": [
    "#Statistiques descriptives\n",
    "print(\"\\nStatistiques descriptives :\")\n",
    "display(spam_df.describe())"
   ]
  },
  {
   "cell_type": "code",
   "execution_count": 6,
   "id": "38da0ddd",
   "metadata": {},
   "outputs": [
    {
     "name": "stdout",
     "output_type": "stream",
     "text": [
      "Le dataset contient 5171 lignes et 4 colonnes.\n",
      "\n"
     ]
    }
   ],
   "source": [
    "#Nombre de lignes et de colonnes\n",
    "print(f\"Le dataset contient {spam_df.shape[0]} lignes et {spam_df.shape[1]} colonnes.\\n\")"
   ]
  },
  {
   "cell_type": "code",
   "execution_count": 7,
   "id": "a362df4b",
   "metadata": {},
   "outputs": [
    {
     "name": "stdout",
     "output_type": "stream",
     "text": [
      "Noms des colonnes du dataset :\n",
      "Index(['Unnamed: 0', 'label', 'text', 'label_num'], dtype='object')\n"
     ]
    }
   ],
   "source": [
    "#Noms des colonnes\n",
    "print(\"Noms des colonnes du dataset :\")\n",
    "print(spam_df.columns)"
   ]
  },
  {
   "cell_type": "code",
   "execution_count": 8,
   "id": "8628e7c5",
   "metadata": {},
   "outputs": [
    {
     "name": "stdout",
     "output_type": "stream",
     "text": [
      "\n",
      "Nombre de valeurs manquantes par colonne :\n",
      "Unnamed: 0    0\n",
      "label         0\n",
      "text          0\n",
      "label_num     0\n",
      "dtype: int64\n"
     ]
    }
   ],
   "source": [
    "#Nombre de valeurs manquantes dans chaque colonne\n",
    "print(\"\\nNombre de valeurs manquantes par colonne :\")\n",
    "print(spam_df.isnull().sum())"
   ]
  },
  {
   "cell_type": "code",
   "execution_count": 9,
   "id": "f2f841e0",
   "metadata": {},
   "outputs": [
    {
     "name": "stdout",
     "output_type": "stream",
     "text": [
      "Répartition des classes :\n",
      "label\n",
      "ham     3672\n",
      "spam    1499\n",
      "Name: count, dtype: int64\n"
     ]
    }
   ],
   "source": [
    "#Analyse de la répartition des classes (spam vs ham)\n",
    "print(\"Répartition des classes :\")\n",
    "print(spam_df['label'].value_counts())"
   ]
  },
  {
   "cell_type": "code",
   "execution_count": 10,
   "id": "92de00ff",
   "metadata": {},
   "outputs": [
    {
     "data": {
      "image/png": "[encoded data removed]",
      "text/plain": [
       "<Figure size 640x480 with 1 Axes>"
      ]
     },
     "metadata": {},
     "output_type": "display_data"
    }
   ],
   "source": [
    "#Visualisation de cette répartition\n",
    "sns.countplot(x='label', data=spam_df)\n",
    "plt.title(\"Répartition des classes (spam vs ham)\")\n",
    "plt.xlabel(\"Label\")\n",
    "plt.ylabel(\"Nombre de messages\")\n",
    "plt.show()"
   ]
  },
  {
   "cell_type": "code",
   "execution_count": 11,
   "id": "eae619f1",
   "metadata": {},
   "outputs": [],
   "source": [
    "#Suppression de la colonne \"Unnamed 0\"\n",
    "spam_df.drop(columns=['Unnamed: 0'], inplace=True)"
   ]
  },
  {
   "cell_type": "code",
   "execution_count": 12,
   "id": "ddd07270",
   "metadata": {},
   "outputs": [],
   "source": [
    "import re\n",
    "\n",
    "#Fonction de nettoyage des textes\n",
    "def clean_text(text):\n",
    "    text = text.lower() #Passage en minuscules\n",
    "    text = re.sub(r'[^a-z\\s]', '', text) #On supprime les caractères non alphabétiques\n",
    "    return text"
   ]
  },
  {
   "cell_type": "code",
   "execution_count": 13,
   "id": "2a2cbcbe",
   "metadata": {},
   "outputs": [
    {
     "name": "stdout",
     "output_type": "stream",
     "text": [
      "Aperçu des données après nettoyage :\n"
     ]
    },
    {
     "data": {
      "text/html": [
       "<div>\n",
       "<style scoped>\n",
       "    .dataframe tbody tr th:only-of-type {\n",
       "        vertical-align: middle;\n",
       "    }\n",
       "\n",
       "    .dataframe tbody tr th {\n",
       "        vertical-align: top;\n",
       "    }\n",
       "\n",
       "    .dataframe thead th {\n",
       "        text-align: right;\n",
       "    }\n",
       "</style>\n",
       "<table border=\"1\" class=\"dataframe\">\n",
       "  <thead>\n",
       "    <tr style=\"text-align: right;\">\n",
       "      <th></th>\n",
       "      <th>label</th>\n",
       "      <th>text</th>\n",
       "      <th>label_num</th>\n",
       "      <th>cleaned_text</th>\n",
       "    </tr>\n",
       "  </thead>\n",
       "  <tbody>\n",
       "    <tr>\n",
       "      <th>0</th>\n",
       "      <td>ham</td>\n",
       "      <td>Subject: enron methanol ; meter # : 988291\\r\\nthis is a follow up to the note i gave you on monday , 4 / 3 / 00 { preliminary\\r\\nflow data provided by daren } .\\r\\nplease override pop ' s daily volume { presently zero } to reflect daily\\r\\nactivity you can obtain from gas control .\\r\\nthis change is needed asap for economics purposes .</td>\n",
       "      <td>0</td>\n",
       "      <td>subject enron methanol  meter   \\r\\nthis is a follow up to the note i gave you on monday        preliminary\\r\\nflow data provided by daren  \\r\\nplease override pop  s daily volume  presently zero  to reflect daily\\r\\nactivity you can obtain from gas control \\r\\nthis change is needed asap for economics purposes</td>\n",
       "    </tr>\n",
       "    <tr>\n",
       "      <th>1</th>\n",
       "      <td>ham</td>\n",
       "      <td>Subject: hpl nom for january 9 , 2001\\r\\n( see attached file : hplnol 09 . xls )\\r\\n- hplnol 09 . xls</td>\n",
       "      <td>0</td>\n",
       "      <td>subject hpl nom for january   \\r\\n see attached file  hplnol   xls \\r\\n hplnol   xls</td>\n",
       "    </tr>\n",
       "    <tr>\n",
       "      <th>2</th>\n",
       "      <td>ham</td>\n",
       "      <td>Subject: neon retreat\\r\\nho ho ho , we ' re around to that most wonderful time of the year - - - neon leaders retreat time !\\r\\ni know that this time of year is extremely hectic , and that it ' s tough to think about anything past the holidays , but life does go on past the week of december 25 through january 1 , and that ' s what i ' d like you to think about for a minute .\\r\\non the calender that i handed out at the beginning of the fall semester , the retreat was scheduled for the weekend of january 5 - 6 . but because of a youth ministers conference that brad and dustin are connected with that week , we ' re going to change the date to the following weekend , january 12 - 13 . now comes the part you need to think about .\\r\\ni think we all agree that it ' s important for us to get together and have some time to recharge our batteries before we get to far into the spring semester , but it can be a lot of trouble and difficult for us to get away without kids , etc . so , brad came up with a potential alternative for how we can get together on that weekend , and then you can let me know which you prefer .\\r\\nthe first option would be to have a retreat similar to what we ' ve done the past several years . this year we could go to the heartland country inn ( www . . com ) outside of brenham . it ' s a nice place , where we ' d have a 13 - bedroom and a 5 - bedroom house side by side . it ' s in the country , real relaxing , but also close to brenham and only about one hour and 15 minutes from here . we can golf , shop in the antique and craft stores in brenham , eat dinner together at the ranch , and spend time with each other . we ' d meet on saturday , and then return on sunday morning , just like what we ' ve done in the past .\\r\\nthe second option would be to stay here in houston , have dinner together at a nice restaurant , and then have dessert and a time for visiting and recharging at one of our homes on that saturday evening . this might be easier , but the trade off would be that we wouldn ' t have as much time together . i ' ll let you decide .\\r\\nemail me back with what would be your preference , and of course if you ' re available on that weekend . the democratic process will prevail - - majority vote will rule ! let me hear from you as soon as possible , preferably by the end of the weekend . and if the vote doesn ' t go your way , no complaining allowed ( like i tend to do ! )\\r\\nhave a great weekend , great golf , great fishing , great shopping , or whatever makes you happy !\\r\\nbobby</td>\n",
       "      <td>0</td>\n",
       "      <td>subject neon retreat\\r\\nho ho ho  we  re around to that most wonderful time of the year    neon leaders retreat time \\r\\ni know that this time of year is extremely hectic  and that it  s tough to think about anything past the holidays  but life does go on past the week of december  through january   and that  s what i  d like you to think about for a minute \\r\\non the calender that i handed out at the beginning of the fall semester  the retreat was scheduled for the weekend of january     but because of a youth ministers conference that brad and dustin are connected with that week  we  re going to change the date to the following weekend  january     now comes the part you need to think about \\r\\ni think we all agree that it  s important for us to get together and have some time to recharge our batteries before we get to far into the spring semester  but it can be a lot of trouble and difficult for us to get away without kids  etc  so  brad came up with a potential alternative for how we can get together on that weekend  and then you can let me know which you prefer \\r\\nthe first option would be to have a retreat similar to what we  ve done the past several years  this year we could go to the heartland country inn  www   com  outside of brenham  it  s a nice place  where we  d have a   bedroom and a   bedroom house side by side  it  s in the country  real relaxing  but also close to brenham and only about one hour and  minutes from here  we can golf  shop in the antique and craft stores in brenham  eat dinner together at the ranch  and spend time with each other  we  d meet on saturday  and then return on sunday morning  just like what we  ve done in the past \\r\\nthe second option would be to stay here in houston  have dinner together at a nice restaurant  and then have dessert and a time for visiting and recharging at one of our homes on that saturday evening  this might be easier  but the trade off would be that we wouldn  t have as much time together  i  ll let you decide \\r\\nemail me back with what would be your preference  and of course if you  re available on that weekend  the democratic process will prevail   majority vote will rule  let me hear from you as soon as possible  preferably by the end of the weekend  and if the vote doesn  t go your way  no complaining allowed  like i tend to do  \\r\\nhave a great weekend  great golf  great fishing  great shopping  or whatever makes you happy \\r\\nbobby</td>\n",
       "    </tr>\n",
       "    <tr>\n",
       "      <th>3</th>\n",
       "      <td>spam</td>\n",
       "      <td>Subject: photoshop , windows , office . cheap . main trending\\r\\nabasements darer prudently fortuitous undergone\\r\\nlighthearted charm orinoco taster\\r\\nrailroad affluent pornographic cuvier\\r\\nirvin parkhouse blameworthy chlorophyll\\r\\nrobed diagrammatic fogarty clears bayda\\r\\ninconveniencing managing represented smartness hashish\\r\\nacademies shareholders unload badness\\r\\ndanielson pure caffein\\r\\nspaniard chargeable levin\\r\\n</td>\n",
       "      <td>1</td>\n",
       "      <td>subject photoshop  windows  office  cheap  main trending\\r\\nabasements darer prudently fortuitous undergone\\r\\nlighthearted charm orinoco taster\\r\\nrailroad affluent pornographic cuvier\\r\\nirvin parkhouse blameworthy chlorophyll\\r\\nrobed diagrammatic fogarty clears bayda\\r\\ninconveniencing managing represented smartness hashish\\r\\nacademies shareholders unload badness\\r\\ndanielson pure caffein\\r\\nspaniard chargeable levin\\r\\n</td>\n",
       "    </tr>\n",
       "    <tr>\n",
       "      <th>4</th>\n",
       "      <td>ham</td>\n",
       "      <td>Subject: re : indian springs\\r\\nthis deal is to book the teco pvr revenue . it is my understanding that teco\\r\\njust sends us a check , i haven ' t received an answer as to whether there is a\\r\\npredermined price associated with this deal or if teco just lets us know what\\r\\nwe are giving . i can continue to chase this deal down if you need .</td>\n",
       "      <td>0</td>\n",
       "      <td>subject re  indian springs\\r\\nthis deal is to book the teco pvr revenue  it is my understanding that teco\\r\\njust sends us a check  i haven  t received an answer as to whether there is a\\r\\npredermined price associated with this deal or if teco just lets us know what\\r\\nwe are giving  i can continue to chase this deal down if you need</td>\n",
       "    </tr>\n",
       "  </tbody>\n",
       "</table>\n",
       "</div>"
      ],
      "text/plain": [
       "  label  \\\n",
       "0   ham   \n",
       "1   ham   \n",
       "2   ham   \n",
       "3  spam   \n",
       "4   ham   \n",
       "\n",
       "                                                                                                                                                                                                                                                                                                                                                                                                                                                                                                                                                                                                                                                                                                                                                                                                                                                                                                                                                                                                                                                                                                                                                                                                                                                                                                                                                                                                                                                                                                                                                                                                                                                                                                                                                                                                                                                                                                                                                                                                                                                                                                                                                                                                                                                                                                                                                                                                                                                                                                                                                                                                                                             text  \\\n",
       "0                                                                                                                                                                                                                                                                                                                                                                                                                                                                                                                                                                                                                                                                                                                                                                                                                                                                                                                                                                                                                                                                                                                                                                                                                                                                                                                                                                                                                                                                                                                                                                                                                                                                                                                                                                                                                                                                                                                                                                                                                                                                                                                                                                                                                                                                                               Subject: enron methanol ; meter # : 988291\\r\\nthis is a follow up to the note i gave you on monday , 4 / 3 / 00 { preliminary\\r\\nflow data provided by daren } .\\r\\nplease override pop ' s daily volume { presently zero } to reflect daily\\r\\nactivity you can obtain from gas control .\\r\\nthis change is needed asap for economics purposes .   \n",
       "1                                                                                                                                                                                                                                                                                                                                                                                                                                                                                                                                                                                                                                                                                                                                                                                                                                                                                                                                                                                                                                                                                                                                                                                                                                                                                                                                                                                                                                                                                                                                                                                                                                                                                                                                                                                                                                                                                                                                                                                                                                                                                                                                                                                                                                                                                                                                                                                                                                                                                                                                           Subject: hpl nom for january 9 , 2001\\r\\n( see attached file : hplnol 09 . xls )\\r\\n- hplnol 09 . xls   \n",
       "2  Subject: neon retreat\\r\\nho ho ho , we ' re around to that most wonderful time of the year - - - neon leaders retreat time !\\r\\ni know that this time of year is extremely hectic , and that it ' s tough to think about anything past the holidays , but life does go on past the week of december 25 through january 1 , and that ' s what i ' d like you to think about for a minute .\\r\\non the calender that i handed out at the beginning of the fall semester , the retreat was scheduled for the weekend of january 5 - 6 . but because of a youth ministers conference that brad and dustin are connected with that week , we ' re going to change the date to the following weekend , january 12 - 13 . now comes the part you need to think about .\\r\\ni think we all agree that it ' s important for us to get together and have some time to recharge our batteries before we get to far into the spring semester , but it can be a lot of trouble and difficult for us to get away without kids , etc . so , brad came up with a potential alternative for how we can get together on that weekend , and then you can let me know which you prefer .\\r\\nthe first option would be to have a retreat similar to what we ' ve done the past several years . this year we could go to the heartland country inn ( www . . com ) outside of brenham . it ' s a nice place , where we ' d have a 13 - bedroom and a 5 - bedroom house side by side . it ' s in the country , real relaxing , but also close to brenham and only about one hour and 15 minutes from here . we can golf , shop in the antique and craft stores in brenham , eat dinner together at the ranch , and spend time with each other . we ' d meet on saturday , and then return on sunday morning , just like what we ' ve done in the past .\\r\\nthe second option would be to stay here in houston , have dinner together at a nice restaurant , and then have dessert and a time for visiting and recharging at one of our homes on that saturday evening . this might be easier , but the trade off would be that we wouldn ' t have as much time together . i ' ll let you decide .\\r\\nemail me back with what would be your preference , and of course if you ' re available on that weekend . the democratic process will prevail - - majority vote will rule ! let me hear from you as soon as possible , preferably by the end of the weekend . and if the vote doesn ' t go your way , no complaining allowed ( like i tend to do ! )\\r\\nhave a great weekend , great golf , great fishing , great shopping , or whatever makes you happy !\\r\\nbobby   \n",
       "3                                                                                                                                                                                                                                                                                                                                                                                                                                                                                                                                                                                                                                                                                                                                                                                                                                                                                                                                                                                                                                                                                                                                                                                                                                                                                                                                                                                                                                                                                                                                                                                                                                                                                                                                                                                                                                                                                                                                                                                                                                                                                                                                                                                              Subject: photoshop , windows , office . cheap . main trending\\r\\nabasements darer prudently fortuitous undergone\\r\\nlighthearted charm orinoco taster\\r\\nrailroad affluent pornographic cuvier\\r\\nirvin parkhouse blameworthy chlorophyll\\r\\nrobed diagrammatic fogarty clears bayda\\r\\ninconveniencing managing represented smartness hashish\\r\\nacademies shareholders unload badness\\r\\ndanielson pure caffein\\r\\nspaniard chargeable levin\\r\\n   \n",
       "4                                                                                                                                                                                                                                                                                                                                                                                                                                                                                                                                                                                                                                                                                                                                                                                                                                                                                                                                                                                                                                                                                                                                                                                                                                                                                                                                                                                                                                                                                                                                                                                                                                                                                                                                                                                                                                                                                                                                                                                                                                                                                                                                                                                                                                                                                        Subject: re : indian springs\\r\\nthis deal is to book the teco pvr revenue . it is my understanding that teco\\r\\njust sends us a check , i haven ' t received an answer as to whether there is a\\r\\npredermined price associated with this deal or if teco just lets us know what\\r\\nwe are giving . i can continue to chase this deal down if you need .   \n",
       "\n",
       "   label_num  \\\n",
       "0          0   \n",
       "1          0   \n",
       "2          0   \n",
       "3          1   \n",
       "4          0   \n",
       "\n",
       "                                                                                                                                                                                                                                                                                                                                                                                                                                                                                                                                                                                                                                                                                                                                                                                                                                                                                                                                                                                                                                                                                                                                                                                                                                                                                                                                                                                                                                                                                                                                                                                                                                                                                                                                                                                                                                                                                                                                                                                                                                                                                                                                                                                                                                                                                                                                                                                                                                                                                                                                     cleaned_text  \n",
       "0                                                                                                                                                                                                                                                                                                                                                                                                                                                                                                                                                                                                                                                                                                                                                                                                                                                                                                                                                                                                                                                                                                                                                                                                                                                                                                                                                                                                                                                                                                                                                                                                                                                                                                                                                                                                                                                                                                                                                                                                                                                                                                                                                                                                                        subject enron methanol  meter   \\r\\nthis is a follow up to the note i gave you on monday        preliminary\\r\\nflow data provided by daren  \\r\\nplease override pop  s daily volume  presently zero  to reflect daily\\r\\nactivity you can obtain from gas control \\r\\nthis change is needed asap for economics purposes   \n",
       "1                                                                                                                                                                                                                                                                                                                                                                                                                                                                                                                                                                                                                                                                                                                                                                                                                                                                                                                                                                                                                                                                                                                                                                                                                                                                                                                                                                                                                                                                                                                                                                                                                                                                                                                                                                                                                                                                                                                                                                                                                                                                                                                                                                                                                                                                                                                                                                                                                                                            subject hpl nom for january   \\r\\n see attached file  hplnol   xls \\r\\n hplnol   xls  \n",
       "2  subject neon retreat\\r\\nho ho ho  we  re around to that most wonderful time of the year    neon leaders retreat time \\r\\ni know that this time of year is extremely hectic  and that it  s tough to think about anything past the holidays  but life does go on past the week of december  through january   and that  s what i  d like you to think about for a minute \\r\\non the calender that i handed out at the beginning of the fall semester  the retreat was scheduled for the weekend of january     but because of a youth ministers conference that brad and dustin are connected with that week  we  re going to change the date to the following weekend  january     now comes the part you need to think about \\r\\ni think we all agree that it  s important for us to get together and have some time to recharge our batteries before we get to far into the spring semester  but it can be a lot of trouble and difficult for us to get away without kids  etc  so  brad came up with a potential alternative for how we can get together on that weekend  and then you can let me know which you prefer \\r\\nthe first option would be to have a retreat similar to what we  ve done the past several years  this year we could go to the heartland country inn  www   com  outside of brenham  it  s a nice place  where we  d have a   bedroom and a   bedroom house side by side  it  s in the country  real relaxing  but also close to brenham and only about one hour and  minutes from here  we can golf  shop in the antique and craft stores in brenham  eat dinner together at the ranch  and spend time with each other  we  d meet on saturday  and then return on sunday morning  just like what we  ve done in the past \\r\\nthe second option would be to stay here in houston  have dinner together at a nice restaurant  and then have dessert and a time for visiting and recharging at one of our homes on that saturday evening  this might be easier  but the trade off would be that we wouldn  t have as much time together  i  ll let you decide \\r\\nemail me back with what would be your preference  and of course if you  re available on that weekend  the democratic process will prevail   majority vote will rule  let me hear from you as soon as possible  preferably by the end of the weekend  and if the vote doesn  t go your way  no complaining allowed  like i tend to do  \\r\\nhave a great weekend  great golf  great fishing  great shopping  or whatever makes you happy \\r\\nbobby  \n",
       "3                                                                                                                                                                                                                                                                                                                                                                                                                                                                                                                                                                                                                                                                                                                                                                                                                                                                                                                                                                                                                                                                                                                                                                                                                                                                                                                                                                                                                                                                                                                                                                                                                                                                                                                                                                                                                                                                                                                                                                                                                                                                                                   subject photoshop  windows  office  cheap  main trending\\r\\nabasements darer prudently fortuitous undergone\\r\\nlighthearted charm orinoco taster\\r\\nrailroad affluent pornographic cuvier\\r\\nirvin parkhouse blameworthy chlorophyll\\r\\nrobed diagrammatic fogarty clears bayda\\r\\ninconveniencing managing represented smartness hashish\\r\\nacademies shareholders unload badness\\r\\ndanielson pure caffein\\r\\nspaniard chargeable levin\\r\\n  \n",
       "4                                                                                                                                                                                                                                                                                                                                                                                                                                                                                                                                                                                                                                                                                                                                                                                                                                                                                                                                                                                                                                                                                                                                                                                                                                                                                                                                                                                                                                                                                                                                                                                                                                                                                                                                                                                                                                                                                                                                                                                                                                                                                                                                                                                               subject re  indian springs\\r\\nthis deal is to book the teco pvr revenue  it is my understanding that teco\\r\\njust sends us a check  i haven  t received an answer as to whether there is a\\r\\npredermined price associated with this deal or if teco just lets us know what\\r\\nwe are giving  i can continue to chase this deal down if you need   "
      ]
     },
     "metadata": {},
     "output_type": "display_data"
    }
   ],
   "source": [
    "#Application du nettoyage sur la colonne \"text\"\n",
    "spam_df['cleaned_text'] = spam_df['text'].apply(clean_text)\n",
    "\n",
    "#Affichage des premières lignes du dataset après nettoyage\n",
    "print(\"Aperçu des données après nettoyage :\")\n",
    "display(spam_df.head())"
   ]
  },
  {
   "cell_type": "code",
   "execution_count": 14,
   "id": "04c90139",
   "metadata": {},
   "outputs": [
    {
     "name": "stdout",
     "output_type": "stream",
     "text": [
      "Dimensions de la matrice TF-IDF : (5171, 3000)\n"
     ]
    }
   ],
   "source": [
    "from sklearn.feature_extraction.text import TfidfVectorizer\n",
    "\n",
    "#Initialisation du vecteur TF-IDF\n",
    "tfidf_vectorizer = TfidfVectorizer(max_features=3000)  #Limitation à 3000 mots les plus fréquents pour performance\n",
    "\n",
    "#Transformation du texte nettoyé en une matrice TF-IDF\n",
    "X = tfidf_vectorizer.fit_transform(spam_df['cleaned_text'])\n",
    "\n",
    "#Définir la variable cible\n",
    "y = spam_df['label_num']\n",
    "\n",
    "#Aperçu de la forme de la matrice TF-IDF\n",
    "print(\"Dimensions de la matrice TF-IDF :\", X.shape)"
   ]
  },
  {
   "cell_type": "code",
   "execution_count": 22,
   "id": "0925c1a7",
   "metadata": {},
   "outputs": [],
   "source": [
    "from sklearn.model_selection import train_test_split\n",
    "from sklearn.naive_bayes import MultinomialNB\n",
    "from sklearn.metrics import classification_report, accuracy_score\n",
    "\n",
    "#On divise les données en ensembles d'entraînement et de test\n",
    "X_train, X_test, y_train, y_test = train_test_split(X, y, test_size=0.3, random_state=42)"
   ]
  },
  {
   "cell_type": "code",
   "execution_count": 23,
   "id": "fe5966f3",
   "metadata": {},
   "outputs": [],
   "source": [
    "# Entraînement d'un modèle Naive Bayes\n",
    "model = MultinomialNB()\n",
    "model.fit(X_train, y_train)\n",
    "\n",
    "# Prédiction sur l'ensemble de test\n",
    "y_pred = model.predict(X_test)"
   ]
  },
  {
   "cell_type": "code",
   "execution_count": 24,
   "id": "c6876f58",
   "metadata": {},
   "outputs": [
    {
     "name": "stdout",
     "output_type": "stream",
     "text": [
      "Rapport de classification :\n",
      "              precision    recall  f1-score   support\n",
      "\n",
      "           0       0.98      0.95      0.96      1121\n",
      "           1       0.88      0.94      0.91       431\n",
      "\n",
      "    accuracy                           0.95      1552\n",
      "   macro avg       0.93      0.95      0.94      1552\n",
      "weighted avg       0.95      0.95      0.95      1552\n",
      "\n"
     ]
    }
   ],
   "source": [
    "# Évaluation du modèle\n",
    "print(\"Rapport de classification :\")\n",
    "print(classification_report(y_test, y_pred))"
   ]
  },
  {
   "cell_type": "code",
   "execution_count": 25,
   "id": "13ecf8eb",
   "metadata": {},
   "outputs": [
    {
     "name": "stdout",
     "output_type": "stream",
     "text": [
      "Précision globale : 0.9484536082474226\n"
     ]
    }
   ],
   "source": [
    "print(\"Précision globale :\", accuracy_score(y_test, y_pred))"
   ]
  },
  {
   "cell_type": "code",
   "execution_count": null,
   "id": "7f0d2837",
   "metadata": {},
   "outputs": [],
   "source": [
    "import os\n",
    "mlflow.set_tracking_uri(f\"file://{os.path.abspath('mlruns')}\")"
   ]
  },
  {
   "cell_type": "code",
   "execution_count": 52,
   "id": "dd838596",
   "metadata": {},
   "outputs": [
    {
     "name": "stderr",
     "output_type": "stream",
     "text": [
      "2024/11/08 17:55:02 WARNING mlflow.models.model: Model logged without a signature and input example. Please set `input_example` parameter when logging the model to auto infer the model signature.\n"
     ]
    },
    {
     "name": "stdout",
     "output_type": "stream",
     "text": [
      "Modèle et métriques enregistrés dans MLflow\n"
     ]
    }
   ],
   "source": [
    "import mlflow\n",
    "import mlflow.sklearn\n",
    "\n",
    "#Configuration de l'URI de suivi\n",
    "mlflow.set_tracking_uri(\"file:./mlruns\")\n",
    "mlflow.set_experiment(\"email_spam_filter_experiment\")\n",
    "\n",
    "#Enregistrer les métriques, les paramètres et le modèle dans MLflow\n",
    "with mlflow.start_run():\n",
    "#Paramètres du modèle\n",
    "    mlflow.log_param(\"model_type\", \"MultinomialNB\")\n",
    "    mlflow.log_param(\"vectorization\", \"TF-IDF\")\n",
    "    mlflow.log_param(\"max_features\", 3000)\n",
    "    \n",
    "#Métriques\n",
    "    mlflow.log_metric(\"accuracy\", accuracy_score(y_test, y_pred))\n",
    "    \n",
    "#Le modèle lui-même\n",
    "    mlflow.sklearn.log_model(model, \"spam_filter_model\")\n",
    "    \n",
    "    print(\"Modèle et métriques enregistrés dans MLflow\")\n",
    "    \n",
    "#Pour initialiser MLFlow :\n",
    "#mlflow ui"
   ]
  },
  {
   "cell_type": "code",
   "execution_count": null,
   "id": "8cd8e5b5",
   "metadata": {},
   "outputs": [],
   "source": []
  },
  {
   "cell_type": "code",
   "execution_count": 46,
   "id": "3c41e28c",
   "metadata": {},
   "outputs": [
    {
     "name": "stdout",
     "output_type": "stream",
     "text": [
      "Contenu de meta.yaml de l'expérience 0:\n",
      "{'artifact_location': 'mlflow-artifacts:/0', 'creation_time': 1731082541276, 'experiment_id': '0', 'last_update_time': 1731082541276, 'lifecycle_stage': 'active', 'name': 'Default'}\n",
      "\n",
      "Contenu de meta.yaml de l'expérience 840384173383382726:\n",
      "{'artifact_location': 'file:///C:/Users/dimit/5MLDEPLOY/mlruns/840384173383382726', 'creation_time': 1731083565986, 'experiment_id': '840384173383382726', 'last_update_time': 1731083565986, 'lifecycle_stage': 'active', 'name': 'email_spam_filter_experiment'}\n"
     ]
    }
   ],
   "source": [
    "import yaml\n",
    "\n",
    "#Lit le contenu des fichiers meta.yaml\n",
    "with open('./mlruns/0/meta.yaml', 'r') as file:\n",
    "    exp0 = yaml.safe_load(file)\n",
    "    print(\"Contenu de meta.yaml de l'expérience 0:\")\n",
    "    print(exp0)\n",
    "\n",
    "with open('./mlruns/840384173383382726/meta.yaml', 'r') as file:\n",
    "    exp1 = yaml.safe_load(file)\n",
    "    print(\"\\nContenu de meta.yaml de l'expérience 840384173383382726:\")\n",
    "    print(exp1)"
   ]
  },
  {
   "cell_type": "code",
   "execution_count": 54,
   "id": "d0322086",
   "metadata": {},
   "outputs": [],
   "source": [
    "from fastapi import FastAPI\n",
    "import mlflow\n",
    "import mlflow.sklearn\n",
    "from pydantic import BaseModel\n",
    "import numpy as np\n",
    "import uvicorn\n",
    "\n",
    "#Chargement du modèle depuis MLflow en utilisant le Run ID\n",
    "model = mlflow.sklearn.load_model(\"runs:/978f0ccd0ba748b285d575084cdbb93c/spam_filter_model\")\n",
    "\n",
    "#Initialiser l'application FastAPI\n",
    "app = FastAPI()\n",
    "\n",
    "#Schéma pour la requête\n",
    "class EmailRequest(BaseModel):\n",
    "    text: str\n",
    "\n",
    "#Fonction de prétraitement\n",
    "def clean_text(text):\n",
    "#Nettoyage du texte, même logique que pendant l'entraînement\n",
    "    import re\n",
    "    text = text.lower()\n",
    "    text = re.sub(r'[^a-z\\s]', '', text)\n",
    "    return text\n",
    "\n",
    "#Route pour la prédiction\n",
    "@app.post(\"/predict\")\n",
    "def predict(request: EmailRequest):\n",
    "#Prétraitement du texte\n",
    "    text_cleaned = clean_text(request.text)\n",
    "    text_vectorized = tfidf_vectorizer.transform([text_cleaned])\n",
    "    \n",
    "#Prédiction\n",
    "    prediction = model.predict(text_vectorized)\n",
    "    label = \"spam\" if prediction[0] == 1 else \"ham\"\n",
    "    \n",
    "    return {\"prediction\": label}\n",
    "\n",
    "#Pour lancer le serveur :\n",
    "#uvicorn app:app --reload"
   ]
  },
  {
   "cell_type": "code",
   "execution_count": 56,
   "id": "8c36ba5d",
   "metadata": {},
   "outputs": [],
   "source": [
    "import pickle\n",
    "\n",
    "#Sauvegarde du tfidf_vectorizer dans un fichier Pickle\n",
    "with open(\"tfidf_vectorizer.pkl\", \"wb\") as file:\n",
    "    pickle.dump(tfidf_vectorizer, file)"
   ]
  },
  {
   "cell_type": "code",
   "execution_count": null,
   "id": "3d8f7b99",
   "metadata": {},
   "outputs": [],
   "source": []
  }
 ],
 "metadata": {
  "kernelspec": {
   "display_name": "Python 3 (ipykernel)",
   "language": "python",
   "name": "python3"
  },
  "language_info": {
   "codemirror_mode": {
    "name": "ipython",
    "version": 3
   },
   "file_extension": ".py",
   "mimetype": "text/x-python",
   "name": "python",
   "nbconvert_exporter": "python",
   "pygments_lexer": "ipython3",
   "version": "3.11.7"
  }
 },
 "nbformat": 4,
 "nbformat_minor": 5
}
